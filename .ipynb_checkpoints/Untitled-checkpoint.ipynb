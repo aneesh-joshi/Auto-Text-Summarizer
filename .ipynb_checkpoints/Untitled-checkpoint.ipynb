{
 "cells": [
  {
   "cell_type": "code",
   "execution_count": 2,
   "metadata": {
    "collapsed": false
   },
   "outputs": [
    {
     "name": "stdout",
     "output_type": "stream",
     "text": [
      "Reading '/home/rachit/Downloads/got/data/got1.txt'...\n",
      "Corpus is now 1770659 characters long\n",
      "Reading '/home/rachit/Downloads/got/data/got2.txt'...\n",
      "Corpus is now 4071041 characters long\n",
      "Preproc over\n"
     ]
    }
   ],
   "source": [
    "import codecs\n",
    "import glob\n",
    "# import string\n",
    "\n",
    "import nltk\n",
    "from nltk.corpus import stopwords\n",
    "\n",
    "# Append sentences from all the books\n",
    "def get_files(corpus_raw):\n",
    "    book_filenames = sorted(glob.glob(\"/home/rachit/Downloads/got/data/*.txt\"))\n",
    "    for book_filename in book_filenames:\n",
    "        print(\"Reading '{0}'...\".format(book_filename))\n",
    "        with codecs.open(book_filename, \"r\", \"utf-8\") as book_file:\n",
    "            corpus_raw += book_file.read()\n",
    "        print(\"Corpus is now {0} characters long\".format(len(corpus_raw)))\n",
    "    return corpus_raw\n",
    "\n",
    "# Make tokens of words in the sentences\n",
    "def get_tokens(sentences):\n",
    "    tokens = nltk.word_tokenize(sentences)\n",
    "    return tokens\n",
    "\n",
    "# Stopword removal\n",
    "def remove_stopwords(tokens):\n",
    "    stops = [w for w in tokens if not w in stopwords.words('english')]\n",
    "    return stops\n",
    "        \n",
    "corpus_raw = u\"\"\n",
    "# Sentence extraction\n",
    "sentences = get_files(corpus_raw)\n",
    "\n",
    "# Tokenize words in sentences\n",
    "tokens = get_tokens(sentences)\n",
    "\n",
    "# Remove stopwords from tokens\n",
    "stop_tokens = remove_stopwords(tokens)\n",
    "\n",
    "print \"Preprocessing over\""
   ]
  },
  {
   "cell_type": "code",
   "execution_count": 7,
   "metadata": {
    "collapsed": false
   },
   "outputs": [],
   "source": [
    "def remove_encoding(stop_tokens):\n",
    "    processed_tokens = token[2:]\n",
    "    return processed_tokens"
   ]
  },
  {
   "cell_type": "code",
   "execution_count": 6,
   "metadata": {
    "collapsed": false
   },
   "outputs": [
    {
     "name": "stdout",
     "output_type": "stream",
     "text": [
      "\n"
     ]
    }
   ],
   "source": [
    "# Remove encoding format\n",
    "processed_tokens = remove_encoding(stop_tokens)\n",
    "print processed_tokens"
   ]
  },
  {
   "cell_type": "code",
   "execution_count": null,
   "metadata": {
    "collapsed": true
   },
   "outputs": [],
   "source": []
  }
 ],
 "metadata": {
  "kernelspec": {
   "display_name": "Python 2",
   "language": "python",
   "name": "python2"
  },
  "language_info": {
   "codemirror_mode": {
    "name": "ipython",
    "version": 2
   },
   "file_extension": ".py",
   "mimetype": "text/x-python",
   "name": "python",
   "nbconvert_exporter": "python",
   "pygments_lexer": "ipython2",
   "version": "2.7.12"
  }
 },
 "nbformat": 4,
 "nbformat_minor": 2
}
